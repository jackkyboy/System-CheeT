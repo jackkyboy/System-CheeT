{
 "cells": [
  {
   "cell_type": "code",
   "execution_count": 12,
   "id": "99e5c758-514c-4420-94f6-d20b1497e70a",
   "metadata": {},
   "outputs": [
    {
     "name": "stdout",
     "output_type": "stream",
     "text": [
      "Requirement already satisfied: graphviz in ./opt/anaconda3/lib/python3.9/site-packages (0.20.1)\n",
      "Note: you may need to restart the kernel to use updated packages.\n"
     ]
    }
   ],
   "source": [
    "pip install graphviz"
   ]
  },
  {
   "cell_type": "code",
   "execution_count": 14,
   "id": "b455a918-2ce3-45f7-ac69-9dbbe777efbf",
   "metadata": {},
   "outputs": [
    {
     "data": {
      "text/plain": [
       "'customer_registration_insurance_process.png'"
      ]
     },
     "execution_count": 14,
     "metadata": {},
     "output_type": "execute_result"
    }
   ],
   "source": [
    "from graphviz import Digraph\n",
    "\n",
    "# Create a new directed graph\n",
    "dot = Digraph(comment='Customer Registration and Insurance Process')\n",
    "\n",
    "# Customer Registration\n",
    "dot.node('Start', 'Start')\n",
    "dot.node('Home', 'Customer lands on the homepage.')\n",
    "dot.node('Register', 'Customer clicks on \"Register\" or \"Sign Up\".')\n",
    "dot.node('FillInfo', 'Customer fills in personal information (name, email, phone, address).')\n",
    "dot.node('SetPassword', 'Customer sets and confirms a password.')\n",
    "dot.node('EmailConfirm', 'Customer receives an email to confirm registration.')\n",
    "dot.node('ConfirmReg', 'Customer confirms registration via email.')\n",
    "dot.node('SaveInfo', 'Customer information is saved in the database.')\n",
    "dot.node('CarInfoInput', 'Proceed to Car Information Input')\n",
    "\n",
    "# Car Information Input\n",
    "dot.node('FillCarInfo', 'Customer fills in car details (brand, model, year, insurance type, etc.).')\n",
    "dot.node('SaveCarInfo', 'Car information is saved in the database.')\n",
    "dot.node('DataMatching', 'Proceed to Data Matching')\n",
    "\n",
    "# Data Matching\n",
    "dot.node('RetrievePackages', 'Retrieve Matching Insurance Packages from Database')\n",
    "dot.node('CompareData', 'System compares customer-provided car information with stored insurance packages.')\n",
    "dot.node('SelectPackages', 'System selects the insurance packages that closely match the customer\\'s requirements.')\n",
    "dot.node('DisplayResults', 'Proceed to Display Results')\n",
    "\n",
    "# Display Results\n",
    "dot.node('ShowPackages', 'System displays matching insurance packages.')\n",
    "dot.node('ReviewOptions', 'Customer reviews and compares the displayed packages.')\n",
    "dot.node('PurchaseSelection', 'Proceed to Purchase Selection')\n",
    "\n",
    "# Purchase Selection\n",
    "dot.node('SelectPackage', 'Customer selects the insurance package they wish to purchase.')\n",
    "dot.node('ConfirmSelection', 'Customer confirms their selection.')\n",
    "dot.node('PaymentProcess', 'Proceed to Payment')\n",
    "\n",
    "# Purchase Process\n",
    "dot.node('OnlinePurchase', 'Customer proceeds with the online payment.')\n",
    "dot.node('ConfirmPayment', 'System confirms payment and activates the insurance.')\n",
    "dot.node('SaveTransaction', 'Transaction details are saved in the database.')\n",
    "dot.node('SendConfirmation', 'System sends an email confirmation of the transaction and insurance details to the customer.')\n",
    "dot.node('End', 'Process Ends')\n",
    "\n",
    "# Connections\n",
    "dot.edges([('Start', 'Home'),\n",
    "           ('Home', 'Register'),\n",
    "           ('Register', 'FillInfo'),\n",
    "           ('FillInfo', 'SetPassword'),\n",
    "           ('SetPassword', 'EmailConfirm'),\n",
    "           ('EmailConfirm', 'ConfirmReg'),\n",
    "           ('ConfirmReg', 'SaveInfo'),\n",
    "           ('SaveInfo', 'CarInfoInput'),\n",
    "           ('CarInfoInput', 'FillCarInfo'),\n",
    "           ('FillCarInfo', 'SaveCarInfo'),\n",
    "           ('SaveCarInfo', 'DataMatching'),\n",
    "           ('DataMatching', 'RetrievePackages'),\n",
    "           ('RetrievePackages', 'CompareData'),\n",
    "           ('CompareData', 'SelectPackages'),\n",
    "           ('SelectPackages', 'DisplayResults'),\n",
    "           ('DisplayResults', 'ShowPackages'),\n",
    "           ('ShowPackages', 'ReviewOptions'),\n",
    "           ('ReviewOptions', 'PurchaseSelection'),\n",
    "           ('PurchaseSelection', 'SelectPackage'),\n",
    "           ('SelectPackage', 'ConfirmSelection'),\n",
    "           ('ConfirmSelection', 'PaymentProcess'),\n",
    "           ('PaymentProcess', 'OnlinePurchase'),\n",
    "           ('OnlinePurchase', 'ConfirmPayment'),\n",
    "           ('ConfirmPayment', 'SaveTransaction'),\n",
    "           ('SaveTransaction', 'SendConfirmation'),\n",
    "           ('SendConfirmation', 'End')])\n",
    "\n",
    "# Render the graph\n",
    "dot.render('customer_registration_insurance_process', format='png', view=True)"
   ]
  }
 ],
 "metadata": {
  "kernelspec": {
   "display_name": "Python 3 (ipykernel)",
   "language": "python",
   "name": "python3"
  },
  "language_info": {
   "codemirror_mode": {
    "name": "ipython",
    "version": 3
   },
   "file_extension": ".py",
   "mimetype": "text/x-python",
   "name": "python",
   "nbconvert_exporter": "python",
   "pygments_lexer": "ipython3",
   "version": "3.9.19"
  }
 },
 "nbformat": 4,
 "nbformat_minor": 5
}
